{
  "nbformat": 4,
  "nbformat_minor": 0,
  "metadata": {
    "colab": {
      "private_outputs": true,
      "provenance": [],
      "authorship_tag": "ABX9TyPiv4b388cTnCAK4/+P/K4q",
      "include_colab_link": true
    },
    "kernelspec": {
      "name": "python3",
      "display_name": "Python 3"
    },
    "language_info": {
      "name": "python"
    },
    "accelerator": "GPU",
    "gpuClass": "standard"
  },
  "cells": [
    {
      "cell_type": "markdown",
      "metadata": {
        "id": "view-in-github",
        "colab_type": "text"
      },
      "source": [
        "<a href=\"https://colab.research.google.com/github/lkjhgfdbf3/AI-15-Section1-Project/blob/main/Section4_Project_MobileNet.ipynb\" target=\"_parent\"><img src=\"https://colab.research.google.com/assets/colab-badge.svg\" alt=\"Open In Colab\"/></a>"
      ]
    },
    {
      "cell_type": "code",
      "execution_count": null,
      "metadata": {
        "id": "cULI4IiSouZ7"
      },
      "outputs": [],
      "source": [
        "from google.colab import drive\n",
        "drive.mount('/content/drive')"
      ]
    },
    {
      "cell_type": "code",
      "source": [
        "!unzip -qq \"/content/drive/MyDrive/01.데이터.zip\""
      ],
      "metadata": {
        "id": "HQ3-S7U_p9IK"
      },
      "execution_count": null,
      "outputs": []
    },
    {
      "cell_type": "code",
      "source": [
        "!pip install split-folders"
      ],
      "metadata": {
        "id": "VlEJNopeqzgv"
      },
      "execution_count": null,
      "outputs": []
    },
    {
      "cell_type": "code",
      "source": [
        "import splitfolders"
      ],
      "metadata": {
        "id": "NZxw1B9_qN6U"
      },
      "execution_count": null,
      "outputs": []
    },
    {
      "cell_type": "code",
      "source": [
        "splitfolders.ratio('/content/01.데이터', output=\"output\", seed=1337, ratio=(0.7, 0.2, 0.1))"
      ],
      "metadata": {
        "id": "a_JJl4YAqqLI"
      },
      "execution_count": null,
      "outputs": []
    },
    {
      "cell_type": "code",
      "source": [
        "import numpy as np\n",
        "\n",
        "from tensorflow.keras.preprocessing import image\n",
        "from tensorflow.keras.applications.mobilenet import MobileNet, preprocess_input, decode_predictions\n",
        "\n",
        "from tensorflow.keras.layers import Dense, GlobalAveragePooling2D, Conv2D, MaxPooling2D, Flatten\n",
        "from tensorflow.keras.models import Model\n",
        "\n",
        "mobilenet = MobileNet(weights='imagenet', include_top=False)"
      ],
      "metadata": {
        "id": "SO9vaFdJsHlP"
      },
      "execution_count": null,
      "outputs": []
    },
    {
      "cell_type": "code",
      "source": [
        "import os\n",
        "\n",
        "base_dir = '/content/output'\n",
        "\n",
        "train_dir = os.path.join(base_dir, 'train')\n",
        "train_normal_dir = os.path.join(train_dir, '무')\n",
        "train_disease_dir = os.path.join(train_dir, '유')\n",
        "\n",
        "validation_dir = os.path.join(base_dir, 'val')\n",
        "validation_normal_dir = os.path.join(validation_dir, '무')\n",
        "validation_disease_dir = os.path.join(validation_dir, '유')"
      ],
      "metadata": {
        "id": "kmoEHc6lsOKB"
      },
      "execution_count": null,
      "outputs": []
    },
    {
      "cell_type": "code",
      "source": [
        "print('total training normal images:', len(os.listdir(train_normal_dir)))\n",
        "print('total training disease images:', len(os.listdir(train_disease_dir)))\n",
        "print('total validation normal images:', len(os.listdir(validation_normal_dir)))\n",
        "print('total validation disease images:', len(os.listdir(validation_disease_dir)))"
      ],
      "metadata": {
        "id": "bO4usCKAs7Yf"
      },
      "execution_count": null,
      "outputs": []
    },
    {
      "cell_type": "code",
      "source": [
        "from keras.preprocessing.image import ImageDataGenerator\n",
        "\n",
        "train_datagen = ImageDataGenerator(rescale=1./255)\n",
        "val_datagen = ImageDataGenerator(rescale=1./255)\n",
        "\n",
        "train_generator = train_datagen.flow_from_directory(\n",
        "        train_dir,  \n",
        "        target_size=(224, 224),\n",
        "        batch_size=20,\n",
        "        #classes=['nor','dis'],\n",
        "        class_mode='binary')\n",
        "\n",
        "validation_generator = val_datagen.flow_from_directory(\n",
        "        validation_dir,\n",
        "        target_size=(224, 224),\n",
        "        batch_size=20,\n",
        "        #classes=['nor','dis'],\n",
        "        class_mode='binary')"
      ],
      "metadata": {
        "id": "xdOwzcvGtG3L"
      },
      "execution_count": null,
      "outputs": []
    },
    {
      "cell_type": "code",
      "source": [
        "import matplotlib.pylab as plt\n",
        "\n",
        "#class_labels = ['nor', 'dis']\n",
        "batch = next(train_generator)\n",
        "images, labels = batch[0], batch[1] # 0번 이미지데이터 1번 레이블\n",
        "print(labels[:5])\n",
        "plt.figure(figsize=(16,8))\n",
        "for i in range(5) :\n",
        "    ax = plt.subplot(4,8,i+1)\n",
        "    plt.imshow(images[i])\n",
        "    #plt.title(class_labels[labels[i].astype(np.int)])\n",
        "    plt.axis(\"off\")\n",
        "plt.tight_layout()\n",
        "plt.show()"
      ],
      "metadata": {
        "id": "4fXw_cwkvf7s"
      },
      "execution_count": null,
      "outputs": []
    },
    {
      "cell_type": "code",
      "source": [
        "from tensorflow.keras import layers\n",
        "img_input = layers.Input(shape=(224*224*3))"
      ],
      "metadata": {
        "id": "kIPiFHU7ys-G"
      },
      "execution_count": null,
      "outputs": []
    },
    {
      "cell_type": "code",
      "source": [
        "for layer in mobilenet.layers:\n",
        "    layer.trainable = False"
      ],
      "metadata": {
        "id": "S936z7H3yzLG"
      },
      "execution_count": null,
      "outputs": []
    },
    {
      "cell_type": "code",
      "source": [
        "x = mobilenet.output\n",
        "x = GlobalAveragePooling2D()(x)\n",
        "#x = Dense(512, activation='relu')(x)\n",
        "x = Dense(512, activation='relu')(x)\n",
        "predictions = Dense(1, activation='sigmoid')(x)\n",
        "model = Model(mobilenet.input, predictions)"
      ],
      "metadata": {
        "id": "CSt3qhebyzq5"
      },
      "execution_count": null,
      "outputs": []
    },
    {
      "cell_type": "code",
      "source": [
        "from tensorflow import keras\n",
        "\n",
        "checkpoint_filepath = \"FMbest.hdf5\"\n",
        "model.compile(optimizer=\"adam\", loss=\"binary_crossentropy\", metrics=[\"accuracy\"])\n",
        "\n",
        "early_stop = keras.callbacks.EarlyStopping(monitor='val_loss',min_delta=0,patience=5, verbose=1)\n",
        "\n",
        "save_best = keras.callbacks.ModelCheckpoint(filepath=checkpoint_filepath, monitor='val_loss',\n",
        "                                            verbose=1, save_best_only=True, save_weights_only=True, \n",
        "                                            mode='auto',save_freq='epoch',options=None)"
      ],
      "metadata": {
        "id": "Al17DgeZ0pp4"
      },
      "execution_count": null,
      "outputs": []
    },
    {
      "cell_type": "code",
      "source": [
        "history = model.fit(\n",
        "      train_generator,\n",
        "      steps_per_epoch=27,  \n",
        "      epochs=20,\n",
        "      validation_data=validation_generator,\n",
        "      validation_steps=10,\n",
        "      callbacks=[early_stop, save_best],\n",
        "      verbose=1)"
      ],
      "metadata": {
        "id": "rA74213O0rmM"
      },
      "execution_count": null,
      "outputs": []
    },
    {
      "cell_type": "code",
      "source": [
        "plt.plot(history.history['accuracy'],'b-', label='accuracy')\n",
        "plt.plot(history.history['val_accuracy'],'r--', label='val_accuracy')\n",
        "plt.xlabel('Epoch')\n",
        "plt.legend()\n",
        "plt.show()"
      ],
      "metadata": {
        "id": "Gt3dxpXg4xFT"
      },
      "execution_count": null,
      "outputs": []
    },
    {
      "cell_type": "code",
      "source": [
        "plt.plot(history.history['loss'],'b-', label='loss')\n",
        "plt.plot(history.history['val_loss'],'r--', label='val_loss')\n",
        "plt.xlabel('Epoch')\n",
        "plt.legend()\n",
        "plt.show()"
      ],
      "metadata": {
        "id": "ZgzFoH6LEZj8"
      },
      "execution_count": null,
      "outputs": []
    },
    {
      "cell_type": "code",
      "source": [
        "test_dir = os.path.join(base_dir, 'test')\n",
        "test_normal_dir = os.path.join(test_dir, '무')\n",
        "test_disease_dir = os.path.join(test_dir, '유')\n",
        "\n",
        "test_datagen = ImageDataGenerator(rescale=1./255)\n",
        "\n",
        "test_generator = test_datagen.flow_from_directory(\n",
        "        test_dir,\n",
        "        target_size=(224, 224),\n",
        "        batch_size=20,\n",
        "        #classes=['nor','dis'],\n",
        "        class_mode='binary')"
      ],
      "metadata": {
        "id": "6fvi-RGOE1Z-"
      },
      "execution_count": null,
      "outputs": []
    },
    {
      "cell_type": "code",
      "source": [
        "model.evaluate(test_generator)"
      ],
      "metadata": {
        "id": "mNWpRbRjEtF4"
      },
      "execution_count": null,
      "outputs": []
    }
  ]
}